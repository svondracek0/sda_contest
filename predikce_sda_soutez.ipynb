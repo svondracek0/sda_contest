{
  "nbformat": 4,
  "nbformat_minor": 0,
  "metadata": {
    "colab": {
      "provenance": [],
      "authorship_tag": "ABX9TyM6oiCqA9Idq9X5j46SG04N",
      "include_colab_link": true
    },
    "kernelspec": {
      "name": "python3",
      "display_name": "Python 3"
    },
    "language_info": {
      "name": "python"
    }
  },
  "cells": [
    {
      "cell_type": "markdown",
      "metadata": {
        "id": "view-in-github",
        "colab_type": "text"
      },
      "source": [
        "<a href=\"https://colab.research.google.com/github/svondracek0/sda_contest/blob/main/predikce_sda_soutez.ipynb\" target=\"_parent\"><img src=\"https://colab.research.google.com/assets/colab-badge.svg\" alt=\"Open In Colab\"/></a>"
      ]
    },
    {
      "cell_type": "markdown",
      "source": [
        "# Lineárí regrese - soutěž v predikování"
      ],
      "metadata": {
        "id": "uH76m-Su_fIe"
      }
    },
    {
      "cell_type": "markdown",
      "source": [
        "V tomto notebooku budete chtít co nejpřesněji zpredikovat cenu domu z datasetu, který jsme si představili na úvodní hodině. Vaším cílem bude zvolit vhodné  \n",
        "transformace dat a vybrat vhodné proměnné tak, aby vaše predikce na testovací  množině byly co nejpřesnější. Kritériem v našem případě bude RootMeanSquaredError metrika. V tomto notebooku budete používat dataset   \n",
        "train.csv, který je vybrán jako podmnožina celého houses datasetu. Testovací dataset vám nebude představen a na jeho základě vyberu a oznámím vítěze.  \n",
        "\n",
        "Soutěž bude mít dvě kola, v prvním budete používat pouze lineární regresi, ve druhém můžete použít libovolné algoritmy. V případě, že se najdou více než 3 účastníci, se absolutní vítěz může těšit na **voucher do Alzy v hodnotě 500 Kč, vítěz prvního kola na voucher v hodnotě 250 Kč**. Deadline pro odevzdání prvního kola bude 22.3. ve 23:59, pro celkové pořadí 30.3. 23:59. Pro účast je nutné odevzdat jupyter (colab) notebook dokumentující postup a rovněž predikce na testovací množině. Není nutné se účastnit obou kol."
      ],
      "metadata": {
        "id": "FWc54IwR_qNq"
      }
    },
    {
      "cell_type": "markdown",
      "source": [
        "## Doporučený postup\n",
        "\n",
        "\n",
        "1. Načtení dat pro trénování modelu, rozdělení na trénovací a testovací množinu\n",
        "2. Feature engineering, experimentování s transformacemi (za použití vhodné metriky)\n",
        "3. Provedení finální predikce na testovací množině\n",
        "\n"
      ],
      "metadata": {
        "id": "1W49zbIOD3hQ"
      }
    },
    {
      "cell_type": "code",
      "execution_count": null,
      "metadata": {
        "id": "7Nz69NrC-IaM"
      },
      "outputs": [],
      "source": []
    }
  ]
}